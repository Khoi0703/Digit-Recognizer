{
 "cells": [
  {
   "cell_type": "markdown",
   "metadata": {},
   "source": [
    "<a href=\"https://www.kaggle.com/code/kaop11/digit-recognizer-optuna?scriptVersionId=206984596\" target=\"_blank\"><img align=\"left\" alt=\"Kaggle\" title=\"Open in Kaggle\" src=\"https://kaggle.com/static/images/open-in-kaggle.svg\"></a>"
   ]
  },
  {
   "cell_type": "markdown",
   "id": "3f1de37b",
   "metadata": {},
   "source": [
    "# Digit Recognizer"
   ]
  },
  {
   "cell_type": "code",
   "execution_count": 1,
   "id": "f2fb71f6",
   "metadata": {
    "execution": {
     "iopub.execute_input": "2024-11-13T05:35:35.404098Z",
     "iopub.status.busy": "2024-11-13T05:35:35.403795Z",
     "iopub.status.idle": "2024-11-13T05:35:47.382882Z",
     "shell.execute_reply": "2024-11-13T05:35:47.382025Z"
    },
    "papermill": {
     "duration": 11.986313,
     "end_time": "2024-11-13T05:35:47.385157",
     "exception": false,
     "start_time": "2024-11-13T05:35:35.398844",
     "status": "completed"
    },
    "tags": []
   },
   "outputs": [],
   "source": [
    "import optuna\n",
    "import pandas as pd\n",
    "from tensorflow.keras.models import Sequential\n",
    "from tensorflow.keras.layers import Conv2D, MaxPooling2D, Flatten, Dense, Dropout\n",
    "from tensorflow.keras.optimizers import Adam\n",
    "from tensorflow.keras.callbacks import EarlyStopping\n",
    "from tensorflow.keras.utils import to_categorical\n",
    "import numpy as np"
   ]
  },
  {
   "cell_type": "code",
   "execution_count": 2,
   "id": "500809d1",
   "metadata": {
    "_cell_guid": "b1076dfc-b9ad-4769-8c92-a6c4dae69d19",
    "_uuid": "8f2839f25d086af736a60e9eeb907d3b93b6e0e5",
    "execution": {
     "iopub.execute_input": "2024-11-13T05:35:47.395086Z",
     "iopub.status.busy": "2024-11-13T05:35:47.394168Z",
     "iopub.status.idle": "2024-11-13T05:35:50.908069Z",
     "shell.execute_reply": "2024-11-13T05:35:50.907057Z"
    },
    "papermill": {
     "duration": 3.521077,
     "end_time": "2024-11-13T05:35:50.910951",
     "exception": false,
     "start_time": "2024-11-13T05:35:47.389874",
     "status": "completed"
    },
    "tags": []
   },
   "outputs": [],
   "source": [
    "# Paths to the files\n",
    "train_path = '/kaggle/input/digit-recognizer/train.csv'\n",
    "test_path = '/kaggle/input/digit-recognizer/test.csv'\n",
    "\n",
    "# Reading the CSV files into DataFrames\n",
    "train_df = pd.read_csv(train_path)"
   ]
  },
  {
   "cell_type": "code",
   "execution_count": 3,
   "id": "9c3b267d",
   "metadata": {
    "execution": {
     "iopub.execute_input": "2024-11-13T05:35:50.921837Z",
     "iopub.status.busy": "2024-11-13T05:35:50.921511Z",
     "iopub.status.idle": "2024-11-13T05:35:50.977712Z",
     "shell.execute_reply": "2024-11-13T05:35:50.976625Z"
    },
    "papermill": {
     "duration": 0.063933,
     "end_time": "2024-11-13T05:35:50.979896",
     "exception": false,
     "start_time": "2024-11-13T05:35:50.915963",
     "status": "completed"
    },
    "tags": []
   },
   "outputs": [
    {
     "name": "stdout",
     "output_type": "stream",
     "text": [
      "<class 'pandas.core.frame.DataFrame'>\n",
      "RangeIndex: 42000 entries, 0 to 41999\n",
      "Columns: 785 entries, label to pixel783\n",
      "dtypes: int64(785)\n",
      "memory usage: 251.5 MB\n"
     ]
    }
   ],
   "source": [
    "train_df.info()"
   ]
  },
  {
   "cell_type": "code",
   "execution_count": 4,
   "id": "544cc9af",
   "metadata": {
    "execution": {
     "iopub.execute_input": "2024-11-13T05:35:50.988886Z",
     "iopub.status.busy": "2024-11-13T05:35:50.988594Z",
     "iopub.status.idle": "2024-11-13T05:35:50.995538Z",
     "shell.execute_reply": "2024-11-13T05:35:50.994642Z"
    },
    "papermill": {
     "duration": 0.013453,
     "end_time": "2024-11-13T05:35:50.997421",
     "exception": false,
     "start_time": "2024-11-13T05:35:50.983968",
     "status": "completed"
    },
    "tags": []
   },
   "outputs": [
    {
     "data": {
      "text/plain": [
       "(42000, 785)"
      ]
     },
     "execution_count": 4,
     "metadata": {},
     "output_type": "execute_result"
    }
   ],
   "source": [
    "train_df.shape"
   ]
  },
  {
   "cell_type": "code",
   "execution_count": 5,
   "id": "130dcd3f",
   "metadata": {
    "execution": {
     "iopub.execute_input": "2024-11-13T05:35:51.005841Z",
     "iopub.status.busy": "2024-11-13T05:35:51.005545Z",
     "iopub.status.idle": "2024-11-13T05:35:51.192498Z",
     "shell.execute_reply": "2024-11-13T05:35:51.19155Z"
    },
    "papermill": {
     "duration": 0.194475,
     "end_time": "2024-11-13T05:35:51.195562",
     "exception": false,
     "start_time": "2024-11-13T05:35:51.001087",
     "status": "completed"
    },
    "tags": []
   },
   "outputs": [
    {
     "data": {
      "image/png": "[encoded data removed]",
      "text/plain": [
       "<Figure size 640x480 with 1 Axes>"
      ]
     },
     "metadata": {},
     "output_type": "display_data"
    }
   ],
   "source": [
    "import matplotlib.pyplot as plt\n",
    "\n",
    "# Convert a single row of pixels into a 28x28 image\n",
    "def plot_digit(data, label=None):\n",
    "    image = data.values.reshape(28, 28)\n",
    "    plt.imshow(image, cmap='gray')\n",
    "    plt.title(f\"Label: {label}\" if label is not None else \"Test Image\")\n",
    "    plt.axis('off')\n",
    "    plt.show()\n",
    "\n",
    "# Visualize the first training image\n",
    "plot_digit(train_df.iloc[0, 1:], label=train_df.iloc[0, 0])\n"
   ]
  },
  {
   "cell_type": "code",
   "execution_count": 6,
   "id": "35360645",
   "metadata": {
    "execution": {
     "iopub.execute_input": "2024-11-13T05:35:51.205735Z",
     "iopub.status.busy": "2024-11-13T05:35:51.205017Z",
     "iopub.status.idle": "2024-11-13T05:40:22.995228Z",
     "shell.execute_reply": "2024-11-13T05:40:22.994284Z"
    },
    "papermill": {
     "duration": 271.801447,
     "end_time": "2024-11-13T05:40:23.001831",
     "exception": false,
     "start_time": "2024-11-13T05:35:51.200384",
     "status": "completed"
    },
    "tags": []
   },
   "outputs": [
    {
     "name": "stderr",
     "output_type": "stream",
     "text": [
      "[I 2024-11-13 05:35:52,806] A new study created in memory with name: no-name-f56798be-3125-4031-b41f-cfd11839e2fe\n",
      "/opt/conda/lib/python3.10/site-packages/keras/src/layers/convolutional/base_conv.py:107: UserWarning: Do not pass an `input_shape`/`input_dim` argument to a layer. When using Sequential models, prefer using an `Input(shape)` object as the first layer in the model instead.\n",
      "  super().__init__(activity_regularizer=activity_regularizer, **kwargs)\n",
      "/tmp/ipykernel_23/97312083.py:36: FutureWarning: suggest_loguniform has been deprecated in v3.0.0. This feature will be removed in v6.0.0. See https://github.com/optuna/optuna/releases/tag/v3.0.0. Use suggest_float(..., log=True) instead.\n",
      "  learning_rate = trial.suggest_loguniform('learning_rate', 1e-5, 1e-2)  # Learning rate for Adam optimizer\n",
      "WARNING: All log messages before absl::InitializeLog() is called are written to STDERR\n",
      "I0000 00:00:1731476155.041338      67 service.cc:145] XLA service 0x7bafe40051a0 initialized for platform CUDA (this does not guarantee that XLA will be used). Devices:\n",
      "I0000 00:00:1731476155.041395      67 service.cc:153]   StreamExecutor device (0): Tesla T4, Compute Capability 7.5\n",
      "I0000 00:00:1731476155.041399      67 service.cc:153]   StreamExecutor device (1): Tesla T4, Compute Capability 7.5\n",
      "I0000 00:00:1731476158.771594      67 device_compiler.h:188] Compiled cluster using XLA!  This line is logged at most once for the lifetime of the process.\n",
      "[I 2024-11-13 05:36:22,036] Trial 0 finished with value: 0.9879761934280396 and parameters: {'filters_1': 59, 'filters_2': 75, 'dense_units': 150, 'dropout': 0.3985751809599396, 'learning_rate': 0.003722212044034412}. Best is trial 0 with value: 0.9879761934280396.\n",
      "[I 2024-11-13 05:36:42,626] Trial 1 finished with value: 0.9854761958122253 and parameters: {'filters_1': 57, 'filters_2': 118, 'dense_units': 217, 'dropout': 0.47351412557153866, 'learning_rate': 0.0030753813149361465}. Best is trial 0 with value: 0.9879761934280396.\n",
      "[I 2024-11-13 05:37:02,400] Trial 2 finished with value: 0.9892857074737549 and parameters: {'filters_1': 55, 'filters_2': 72, 'dense_units': 194, 'dropout': 0.44124555661631937, 'learning_rate': 0.0026097054131849224}. Best is trial 2 with value: 0.9892857074737549.\n",
      "[I 2024-11-13 05:37:31,704] Trial 3 finished with value: 0.9909523725509644 and parameters: {'filters_1': 42, 'filters_2': 92, 'dense_units': 142, 'dropout': 0.3684907112709902, 'learning_rate': 0.00023231416037514696}. Best is trial 3 with value: 0.9909523725509644.\n",
      "[I 2024-11-13 05:37:57,171] Trial 4 finished with value: 0.988095223903656 and parameters: {'filters_1': 56, 'filters_2': 75, 'dense_units': 181, 'dropout': 0.4835946536737742, 'learning_rate': 0.0003628755752395128}. Best is trial 3 with value: 0.9909523725509644.\n",
      "[I 2024-11-13 05:38:27,461] Trial 5 finished with value: 0.989047646522522 and parameters: {'filters_1': 46, 'filters_2': 123, 'dense_units': 204, 'dropout': 0.4900749816264361, 'learning_rate': 0.0001456722849685413}. Best is trial 3 with value: 0.9909523725509644.\n",
      "[I 2024-11-13 05:38:56,865] Trial 6 finished with value: 0.9822618961334229 and parameters: {'filters_1': 43, 'filters_2': 120, 'dense_units': 131, 'dropout': 0.4519204622701403, 'learning_rate': 0.006840845977325044}. Best is trial 3 with value: 0.9909523725509644.\n",
      "[I 2024-11-13 05:39:24,457] Trial 7 finished with value: 0.9915476441383362 and parameters: {'filters_1': 56, 'filters_2': 86, 'dense_units': 136, 'dropout': 0.4508713875933654, 'learning_rate': 0.0008911326426774908}. Best is trial 7 with value: 0.9915476441383362.\n",
      "[I 2024-11-13 05:39:53,161] Trial 8 finished with value: 0.970119059085846 and parameters: {'filters_1': 33, 'filters_2': 70, 'dense_units': 226, 'dropout': 0.4530720943448316, 'learning_rate': 2.382469223660306e-05}. Best is trial 7 with value: 0.9915476441383362.\n",
      "[I 2024-11-13 05:40:22,990] Trial 9 finished with value: 0.9859523773193359 and parameters: {'filters_1': 54, 'filters_2': 80, 'dense_units': 228, 'dropout': 0.3570688977612665, 'learning_rate': 9.409347382098555e-05}. Best is trial 7 with value: 0.9915476441383362.\n"
     ]
    },
    {
     "name": "stdout",
     "output_type": "stream",
     "text": [
      "Best hyperparameters: {'filters_1': 56, 'filters_2': 86, 'dense_units': 136, 'dropout': 0.4508713875933654, 'learning_rate': 0.0008911326426774908}\n"
     ]
    }
   ],
   "source": [
    "# Separate the labels and features from the training data\n",
    "X_train = train_df.drop('label', axis=1).values\n",
    "y_train = train_df['label'].values\n",
    "\n",
    "# Normalize the data and reshape it to (28, 28, 1) for each image\n",
    "X_train = X_train.reshape(-1, 28, 28, 1).astype('float32') / 255\n",
    "\n",
    "# One-hot encode the labels\n",
    "y_train = to_categorical(y_train, 10)\n",
    "\n",
    "# For validation, we will split the training data into training and validation sets\n",
    "from sklearn.model_selection import train_test_split\n",
    "X_train, X_val, y_train, y_val = train_test_split(X_train, y_train, test_size=0.2, random_state=42)\n",
    "\n",
    "# Define the model function with hyperparameters for Optuna to optimize\n",
    "def create_model(trial):\n",
    "    model = Sequential()\n",
    "\n",
    "    # Hyperparameters\n",
    "    filters_1 = trial.suggest_int('filters_1', 32, 64)  # Number of filters for the first conv layer\n",
    "    filters_2 = trial.suggest_int('filters_2', 64, 128)  # Number of filters for the second conv layer\n",
    "    dense_units = trial.suggest_int('dense_units', 128, 256)  # Number of units for the dense layer\n",
    "    dropout_rate = trial.suggest_float('dropout', 0.3, 0.5)  # Dropout rate\n",
    "    \n",
    "    # Define the layers\n",
    "    model.add(Conv2D(filters_1, (3, 3), activation='relu', input_shape=(28, 28, 1)))\n",
    "    model.add(MaxPooling2D(pool_size=(2, 2)))\n",
    "    model.add(Conv2D(filters_2, (3, 3), activation='relu'))\n",
    "    model.add(MaxPooling2D(pool_size=(2, 2)))\n",
    "    model.add(Flatten())\n",
    "    model.add(Dense(dense_units, activation='relu'))\n",
    "    model.add(Dropout(dropout_rate))\n",
    "    model.add(Dense(10, activation='softmax'))  # Output layer for 10 classes\n",
    "\n",
    "    # Hyperparameter for optimizer\n",
    "    learning_rate = trial.suggest_loguniform('learning_rate', 1e-5, 1e-2)  # Learning rate for Adam optimizer\n",
    "    optimizer = Adam(learning_rate=learning_rate)\n",
    "\n",
    "    # Compile the model\n",
    "    model.compile(optimizer=optimizer, loss='categorical_crossentropy', metrics=['accuracy'])\n",
    "\n",
    "    return model\n",
    "\n",
    "# Define the optimization function that Optuna will call\n",
    "def objective(trial):\n",
    "    model = create_model(trial)\n",
    "    \n",
    "    # Use early stopping to prevent overfitting\n",
    "    early_stopping = EarlyStopping(monitor='val_loss', patience=3, restore_best_weights=True)\n",
    "    \n",
    "    # Train the model\n",
    "    history = model.fit(X_train, y_train, epochs=10, batch_size=32, validation_data=(X_val, y_val), callbacks=[early_stopping], verbose=0)\n",
    "    \n",
    "    # Return the validation accuracy\n",
    "    val_accuracy = history.history['val_accuracy'][-1]\n",
    "    return val_accuracy\n",
    "\n",
    "# Create and run the Optuna study\n",
    "study = optuna.create_study(direction='maximize')  # We want to maximize validation accuracy\n",
    "study.optimize(objective, n_trials=10)  # Run the optimization for 10 trials\n",
    "\n",
    "# Get the best hyperparameters\n",
    "print(\"Best hyperparameters:\", study.best_params)\n"
   ]
  },
  {
   "cell_type": "code",
   "execution_count": 7,
   "id": "b87eb072",
   "metadata": {
    "execution": {
     "iopub.execute_input": "2024-11-13T05:40:23.013771Z",
     "iopub.status.busy": "2024-11-13T05:40:23.012742Z",
     "iopub.status.idle": "2024-11-13T05:40:56.667451Z",
     "shell.execute_reply": "2024-11-13T05:40:56.666462Z"
    },
    "papermill": {
     "duration": 33.66253,
     "end_time": "2024-11-13T05:40:56.669401",
     "exception": false,
     "start_time": "2024-11-13T05:40:23.006871",
     "status": "completed"
    },
    "tags": []
   },
   "outputs": [
    {
     "name": "stdout",
     "output_type": "stream",
     "text": [
      "Epoch 1/20\n",
      "\u001b[1m1050/1050\u001b[0m \u001b[32m━━━━━━━━━━━━━━━━━━━━\u001b[0m\u001b[37m\u001b[0m \u001b[1m6s\u001b[0m 3ms/step - accuracy: 0.8337 - loss: 0.5144 - val_accuracy: 0.9817 - val_loss: 0.0597\n",
      "Epoch 2/20\n",
      "\u001b[1m1050/1050\u001b[0m \u001b[32m━━━━━━━━━━━━━━━━━━━━\u001b[0m\u001b[37m\u001b[0m \u001b[1m3s\u001b[0m 3ms/step - accuracy: 0.9731 - loss: 0.0885 - val_accuracy: 0.9864 - val_loss: 0.0441\n",
      "Epoch 3/20\n",
      "\u001b[1m1050/1050\u001b[0m \u001b[32m━━━━━━━━━━━━━━━━━━━━\u001b[0m\u001b[37m\u001b[0m \u001b[1m3s\u001b[0m 2ms/step - accuracy: 0.9821 - loss: 0.0587 - val_accuracy: 0.9870 - val_loss: 0.0402\n",
      "Epoch 4/20\n",
      "\u001b[1m1050/1050\u001b[0m \u001b[32m━━━━━━━━━━━━━━━━━━━━\u001b[0m\u001b[37m\u001b[0m \u001b[1m3s\u001b[0m 3ms/step - accuracy: 0.9844 - loss: 0.0506 - val_accuracy: 0.9881 - val_loss: 0.0358\n",
      "Epoch 5/20\n",
      "\u001b[1m1050/1050\u001b[0m \u001b[32m━━━━━━━━━━━━━━━━━━━━\u001b[0m\u001b[37m\u001b[0m \u001b[1m3s\u001b[0m 3ms/step - accuracy: 0.9874 - loss: 0.0405 - val_accuracy: 0.9888 - val_loss: 0.0390\n",
      "Epoch 6/20\n",
      "\u001b[1m1050/1050\u001b[0m \u001b[32m━━━━━━━━━━━━━━━━━━━━\u001b[0m\u001b[37m\u001b[0m \u001b[1m3s\u001b[0m 3ms/step - accuracy: 0.9879 - loss: 0.0397 - val_accuracy: 0.9905 - val_loss: 0.0319\n",
      "Epoch 7/20\n",
      "\u001b[1m1050/1050\u001b[0m \u001b[32m━━━━━━━━━━━━━━━━━━━━\u001b[0m\u001b[37m\u001b[0m \u001b[1m3s\u001b[0m 2ms/step - accuracy: 0.9921 - loss: 0.0264 - val_accuracy: 0.9904 - val_loss: 0.0313\n",
      "Epoch 8/20\n",
      "\u001b[1m1050/1050\u001b[0m \u001b[32m━━━━━━━━━━━━━━━━━━━━\u001b[0m\u001b[37m\u001b[0m \u001b[1m3s\u001b[0m 2ms/step - accuracy: 0.9918 - loss: 0.0253 - val_accuracy: 0.9923 - val_loss: 0.0282\n",
      "Epoch 9/20\n",
      "\u001b[1m1050/1050\u001b[0m \u001b[32m━━━━━━━━━━━━━━━━━━━━\u001b[0m\u001b[37m\u001b[0m \u001b[1m3s\u001b[0m 3ms/step - accuracy: 0.9931 - loss: 0.0225 - val_accuracy: 0.9896 - val_loss: 0.0327\n",
      "Epoch 10/20\n",
      "\u001b[1m1050/1050\u001b[0m \u001b[32m━━━━━━━━━━━━━━━━━━━━\u001b[0m\u001b[37m\u001b[0m \u001b[1m3s\u001b[0m 2ms/step - accuracy: 0.9946 - loss: 0.0166 - val_accuracy: 0.9910 - val_loss: 0.0287\n",
      "Epoch 11/20\n",
      "\u001b[1m1050/1050\u001b[0m \u001b[32m━━━━━━━━━━━━━━━━━━━━\u001b[0m\u001b[37m\u001b[0m \u001b[1m3s\u001b[0m 3ms/step - accuracy: 0.9953 - loss: 0.0155 - val_accuracy: 0.9906 - val_loss: 0.0314\n",
      "\u001b[1m263/263\u001b[0m \u001b[32m━━━━━━━━━━━━━━━━━━━━\u001b[0m\u001b[37m\u001b[0m \u001b[1m0s\u001b[0m 1ms/step - accuracy: 0.9905 - loss: 0.0343\n",
      "Validation Accuracy: 99.23%\n"
     ]
    }
   ],
   "source": [
    "# Using the best hyperparameters found by Optuna\n",
    "best_params = study.best_params\n",
    "\n",
    "# Build the final model using these hyperparameters\n",
    "model = Sequential()\n",
    "model.add(Conv2D(best_params['filters_1'], (3, 3), activation='relu', input_shape=(28, 28, 1)))\n",
    "model.add(MaxPooling2D(pool_size=(2, 2)))\n",
    "model.add(Conv2D(best_params['filters_2'], (3, 3), activation='relu'))\n",
    "model.add(MaxPooling2D(pool_size=(2, 2)))\n",
    "model.add(Flatten())\n",
    "model.add(Dense(best_params['dense_units'], activation='relu'))\n",
    "model.add(Dropout(best_params['dropout']))\n",
    "model.add(Dense(10, activation='softmax'))  # Output layer for 10 classes\n",
    "\n",
    "# Compile the model with the optimized learning rate\n",
    "model.compile(optimizer=Adam(learning_rate=best_params['learning_rate']),\n",
    "              loss='categorical_crossentropy',\n",
    "              metrics=['accuracy'])\n",
    "\n",
    "# Set up EarlyStopping callback\n",
    "early_stopping = EarlyStopping(monitor='val_loss', patience=3, restore_best_weights=True)\n",
    "\n",
    "# Fit the model on the full training data\n",
    "history = model.fit(X_train, y_train, epochs=20, batch_size=32, validation_data=(X_val, y_val), callbacks=[early_stopping])\n",
    "\n",
    "# Evaluate the model on the validation data\n",
    "val_loss, val_accuracy = model.evaluate(X_val, y_val)\n",
    "print(f\"Validation Accuracy: {val_accuracy * 100:.2f}%\")\n"
   ]
  },
  {
   "cell_type": "code",
   "execution_count": 8,
   "id": "ea82f87d",
   "metadata": {
    "execution": {
     "iopub.execute_input": "2024-11-13T05:40:56.764463Z",
     "iopub.status.busy": "2024-11-13T05:40:56.764046Z",
     "iopub.status.idle": "2024-11-13T05:40:57.655261Z",
     "shell.execute_reply": "2024-11-13T05:40:57.654331Z"
    },
    "papermill": {
     "duration": 0.940965,
     "end_time": "2024-11-13T05:40:57.657457",
     "exception": false,
     "start_time": "2024-11-13T05:40:56.716492",
     "status": "completed"
    },
    "tags": []
   },
   "outputs": [
    {
     "data": {
      "image/png": "[encoded data removed]",
      "text/plain": [
       "<Figure size 1200x600 with 2 Axes>"
      ]
     },
     "metadata": {},
     "output_type": "display_data"
    }
   ],
   "source": [
    "import matplotlib.pyplot as plt\n",
    "\n",
    "# Assuming 'history' is the result of model.fit() and contains training metrics\n",
    "\n",
    "# Plot accuracy\n",
    "plt.figure(figsize=(12, 6))\n",
    "plt.subplot(1, 2, 1)\n",
    "plt.plot(history.history['accuracy'], label='Train Accuracy')\n",
    "plt.plot(history.history['val_accuracy'], label='Validation Accuracy')\n",
    "plt.title('Train and Validation Accuracy')\n",
    "plt.xlabel('Epochs')\n",
    "plt.ylabel('Accuracy')\n",
    "plt.legend()\n",
    "\n",
    "# Plot loss\n",
    "plt.subplot(1, 2, 2)\n",
    "plt.plot(history.history['loss'], label='Train Loss')\n",
    "plt.plot(history.history['val_loss'], label='Validation Loss')\n",
    "plt.title('Train and Validation Loss')\n",
    "plt.xlabel('Epochs')\n",
    "plt.ylabel('Loss')\n",
    "plt.legend()\n",
    "\n",
    "plt.tight_layout()\n",
    "plt.show()\n"
   ]
  },
  {
   "cell_type": "code",
   "execution_count": 9,
   "id": "8e03ed8a",
   "metadata": {
    "execution": {
     "iopub.execute_input": "2024-11-13T05:40:57.753832Z",
     "iopub.status.busy": "2024-11-13T05:40:57.753163Z",
     "iopub.status.idle": "2024-11-13T05:41:02.229174Z",
     "shell.execute_reply": "2024-11-13T05:41:02.228252Z"
    },
    "papermill": {
     "duration": 4.526517,
     "end_time": "2024-11-13T05:41:02.231798",
     "exception": false,
     "start_time": "2024-11-13T05:40:57.705281",
     "status": "completed"
    },
    "tags": []
   },
   "outputs": [
    {
     "name": "stdout",
     "output_type": "stream",
     "text": [
      "\u001b[1m875/875\u001b[0m \u001b[32m━━━━━━━━━━━━━━━━━━━━\u001b[0m\u001b[37m\u001b[0m \u001b[1m1s\u001b[0m 1ms/step\n",
      "Submission file created: submission.csv\n"
     ]
    }
   ],
   "source": [
    "# Reading the test data\n",
    "test_df = pd.read_csv(test_path)\n",
    "\n",
    "# Preprocess the test data: Flatten and normalize\n",
    "X_test = test_df.values.reshape(-1, 28, 28, 1).astype('float32') / 255\n",
    "\n",
    "# Predicting with the trained model\n",
    "y_pred = model.predict(X_test)\n",
    "\n",
    "# Convert predictions from probabilities to class labels\n",
    "y_pred_labels = np.argmax(y_pred, axis=1)\n",
    "\n",
    "# Prepare for submission (if applicable)\n",
    "# If you need to create a submission file, you can format it like this:\n",
    "submission_df = pd.DataFrame({'ImageId': np.arange(1, len(y_pred_labels) + 1), 'Label': y_pred_labels})\n",
    "\n",
    "# Save the submission file as a CSV\n",
    "submission_df.to_csv('submission.csv', index=False)\n",
    "\n",
    "print(\"Submission file created: submission.csv\")\n"
   ]
  }
 ],
 "metadata": {
  "kaggle": {
   "accelerator": "nvidiaTeslaT4",
   "dataSources": [
    {
     "databundleVersionId": 861823,
     "sourceId": 3004,
     "sourceType": "competition"
    }
   ],
   "dockerImageVersionId": 30787,
   "isGpuEnabled": true,
   "isInternetEnabled": true,
   "language": "python",
   "sourceType": "notebook"
  },
  "kernelspec": {
   "display_name": "Python 3",
   "language": "python",
   "name": "python3"
  },
  "language_info": {
   "codemirror_mode": {
    "name": "ipython",
    "version": 3
   },
   "file_extension": ".py",
   "mimetype": "text/x-python",
   "name": "python",
   "nbconvert_exporter": "python",
   "pygments_lexer": "ipython3",
   "version": "3.10.14"
  },
  "papermill": {
   "default_parameters": {},
   "duration": 332.733763,
   "end_time": "2024-11-13T05:41:05.600396",
   "environment_variables": {},
   "exception": null,
   "input_path": "__notebook__.ipynb",
   "output_path": "__notebook__.ipynb",
   "parameters": {},
   "start_time": "2024-11-13T05:35:32.866633",
   "version": "2.6.0"
  }
 },
 "nbformat": 4,
 "nbformat_minor": 5
}
